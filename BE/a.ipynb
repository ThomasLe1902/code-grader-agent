{
 "cells": [
  {
   "cell_type": "code",
   "execution_count": 5,
   "metadata": {},
   "outputs": [],
   "source": [
    "from dotenv import  load_dotenv\n",
    "load_dotenv()\n",
    "import os"
   ]
  },
  {
   "cell_type": "code",
   "execution_count": 6,
   "metadata": {},
   "outputs": [
    {
     "data": {
      "text/plain": [
       "AIMessage(content='Olá! Como posso ajudar você hoje?', additional_kwargs={'refusal': None}, response_metadata={'token_usage': {'completion_tokens': 8, 'prompt_tokens': 8, 'total_tokens': 16, 'completion_tokens_details': {'accepted_prediction_tokens': 0, 'audio_tokens': 0, 'reasoning_tokens': 0, 'rejected_prediction_tokens': 0}, 'prompt_tokens_details': {'audio_tokens': 0, 'cached_tokens': 0}}, 'model_name': 'gpt-4o-mini-2024-07-18', 'system_fingerprint': 'fp_b705f0c291', 'prompt_filter_results': [{'prompt_index': 0, 'content_filter_results': {'hate': {'filtered': False, 'severity': 'safe'}, 'jailbreak': {'filtered': False, 'detected': False}, 'self_harm': {'filtered': False, 'severity': 'safe'}, 'sexual': {'filtered': False, 'severity': 'safe'}, 'violence': {'filtered': False, 'severity': 'safe'}}}], 'finish_reason': 'stop', 'logprobs': None, 'content_filter_results': {'hate': {'filtered': False, 'severity': 'safe'}, 'protected_material_code': {'filtered': False, 'detected': False}, 'protected_material_text': {'filtered': False, 'detected': False}, 'self_harm': {'filtered': False, 'severity': 'safe'}, 'sexual': {'filtered': False, 'severity': 'safe'}, 'violence': {'filtered': False, 'severity': 'safe'}}}, id='run-4ff1988c-bbe3-435d-96bf-9fd44dc665d9-0', usage_metadata={'input_tokens': 8, 'output_tokens': 8, 'total_tokens': 16, 'input_token_details': {'audio': 0, 'cache_read': 0}, 'output_token_details': {'audio': 0, 'reasoning': 0}})"
      ]
     },
     "execution_count": 6,
     "metadata": {},
     "output_type": "execute_result"
    }
   ],
   "source": [
    "from config.llm import llm_4o_mini\n",
    "\n",
    "\n",
    "llm_4o_mini.invoke(\"alo\")"
   ]
  },
  {
   "cell_type": "code",
   "execution_count": null,
   "metadata": {},
   "outputs": [],
   "source": []
  },
  {
   "cell_type": "code",
   "execution_count": null,
   "metadata": {},
   "outputs": [],
   "source": [
    "from agent.graph_flow import AgentCodeGrader\n",
    "\n",
    "criterias = \"\"\"\n",
    "x2\n",
    "\"\"\"\n",
    "agent = AgentCodeGrader()()\n"
   ]
  },
  {
   "cell_type": "code",
   "execution_count": 9,
   "metadata": {},
   "outputs": [
    {
     "name": "stdout",
     "output_type": "stream",
     "text": [
      "./chatgpt-code-review/chatgpt_code_review/app.py\n"
     ]
    }
   ],
   "source": [
    "a =  agent.invoke({\"selected_files\": [\"./chatgpt-code-review/chatgpt_code_review/app.py\"], \"criterias\": criterias})"
   ]
  },
  {
   "cell_type": "code",
   "execution_count": 10,
   "metadata": {},
   "outputs": [
    {
     "name": "stdout",
     "output_type": "stream",
     "text": [
      "{'selected_files': ['./chatgpt-code-review/chatgpt_code_review/app.py'], 'criterias': '\\nCode quality and Structure\\n- Modular and single-purpose code:\\n- Consistent naming conventions\\n- Effective use of interfaces/types \\n- Code limiting and formatting\\n- Documentation and comments\\n', 'analyze_code_result': [{'file_name': './chatgpt-code-review/chatgpt_code_review/app.py', 'comment': 'The code is organized into distinct functional areas, which enhances readability and maintainability. However, adding more in-line comments and documentation will further improve understanding for future developers.', 'criteria_eval': '1. Modular and single-purpose code: The code demonstrates modularity by importing various utility functions from different files which adhere to specific functionalities. However, the main `app()` function appears a bit lengthy and could be further split into smaller, focused functions to enhance clarity and maintainability.\\n\\n2. Consistent naming conventions: The naming conventions for functions and variables appear consistent and follow Python standards, using snake_case for function names and variable names, making them easily readable.\\n\\n3. Effective use of interfaces/types: There is some use of types inferred through context, notably when handling forms and session states; however, explicitly defining types for more complex interactions could help future maintainability and clarity.\\n\\n4. Code limiting and formatting: The code adheres largely to PEP 8 conventions, but there are some areas where line lengths could be reduced for better readability. Each function and block should be succinct, and commenting would improve clarity of intention in some areas.\\n\\n5. Documentation and comments: The provided code lacks sufficient comments and docstrings. Including comments to explain the purpose of key sections and parameters, as well as adding docstrings for the main `app()` function and any helper functions, would assist in future comprehension and use of this code base.'}], 'grade_criteria': \"Based on the review comments provided for the code file `app.py`, here's the evaluation for each of the specified criteria:\\n\\nCriteria 1: \\n- Comment: The code demonstrates modularity with utility function imports, but the main function could benefit from further splitting into smaller, more focused functions. This would improve clarity and maintainability significantly.\\n- Criteria Evaluation: 3\\n\\nCriteria 2: \\n- Comment: The naming conventions for functions and variables are consistent and adhere to Python standards, using snake_case effectively, which enhances readability.\\n- Criteria Evaluation: 4\\n\\nCriteria 3: \\n- Comment: There is some effective use of inferred types within the code, especially with forms and session states, but the lack of explicit type definitions for complex interactions hinders future maintainability and clarity.\\n- Criteria Evaluation: 3\\n\\nCriteria 4: \\n- Comment: The code mostly follows PEP 8, though instances of excessive line length exist and could be addressed for better readability. Improvements in succinctness and proper commenting would also enhance comprehension.\\n- Criteria Evaluation: 3\\n\\nCriteria 5: \\n- Comment: The documentation is minimal, with insufficient comments and missing docstrings. Providing explanations for key sections and clearly stating the purpose of functions would greatly aid in future understanding and use of the code.\\n- Criteria Evaluation: 2\"}\n"
     ]
    }
   ],
   "source": [
    "print(a)"
   ]
  },
  {
   "cell_type": "code",
   "execution_count": 12,
   "metadata": {},
   "outputs": [
    {
     "name": "stdout",
     "output_type": "stream",
     "text": [
      "\n",
      "Code quality and Structure\n",
      "- Modular and single-purpose code:\n",
      "- Consistent naming conventions\n",
      "- Effective use of interfaces/types \n",
      "- Code limiting and formatting\n",
      "- Documentation and comments\n",
      "\n"
     ]
    }
   ],
   "source": [
    "print(a[\"criterias\"])"
   ]
  },
  {
   "cell_type": "code",
   "execution_count": 14,
   "metadata": {},
   "outputs": [
    {
     "name": "stdout",
     "output_type": "stream",
     "text": [
      "selected file ['./chatgpt-code-review/chatgpt_code_review/app.py']\n",
      "CRITERIA \n",
      "Code quality and Structure\n",
      "- Modular and single-purpose code:\n",
      "- Consistent naming conventions\n",
      "- Effective use of interfaces/types \n",
      "- Code limiting and formatting\n",
      "- Documentation and comments\n",
      "\n",
      "Based on the review comments provided for the code file `app.py`, here's the evaluation for each of the specified criteria:\n",
      "\n",
      "Criteria 1: \n",
      "- Comment: The code demonstrates modularity with utility function imports, but the main function could benefit from further splitting into smaller, more focused functions. This would improve clarity and maintainability significantly.\n",
      "- Criteria Evaluation: 3\n",
      "\n",
      "Criteria 2: \n",
      "- Comment: The naming conventions for functions and variables are consistent and adhere to Python standards, using snake_case effectively, which enhances readability.\n",
      "- Criteria Evaluation: 4\n",
      "\n",
      "Criteria 3: \n",
      "- Comment: There is some effective use of inferred types within the code, especially with forms and session states, but the lack of explicit type definitions for complex interactions hinders future maintainability and clarity.\n",
      "- Criteria Evaluation: 3\n",
      "\n",
      "Criteria 4: \n",
      "- Comment: The code mostly follows PEP 8, though instances of excessive line length exist and could be addressed for better readability. Improvements in succinctness and proper commenting would also enhance comprehension.\n",
      "- Criteria Evaluation: 3\n",
      "\n",
      "Criteria 5: \n",
      "- Comment: The documentation is minimal, with insufficient comments and missing docstrings. Providing explanations for key sections and clearly stating the purpose of functions would greatly aid in future understanding and use of the code.\n",
      "- Criteria Evaluation: 2\n"
     ]
    }
   ],
   "source": [
    "print(\"selected file\",a[\"selected_files\"])\n",
    "print(\"CRITERIA\",a[\"criterias\"])\n",
    "print(a[\"grade_criteria\"])"
   ]
  },
  {
   "cell_type": "code",
   "execution_count": null,
   "metadata": {},
   "outputs": [],
   "source": [
    "os.path.join(os.path.dirname(__file__))"
   ]
  },
  {
   "cell_type": "code",
   "execution_count": 3,
   "metadata": {},
   "outputs": [],
   "source": [
    "import os"
   ]
  },
  {
   "cell_type": "code",
   "execution_count": 5,
   "metadata": {},
   "outputs": [
    {
     "name": "stdout",
     "output_type": "stream",
     "text": [
      "/Users/abaoxomtieu/Desktop/CODE/Experiment/chatgpt-code-review/New\n"
     ]
    }
   ],
   "source": [
    "print(os.getcwd())\n"
   ]
  },
  {
   "cell_type": "code",
   "execution_count": 1,
   "metadata": {},
   "outputs": [
    {
     "name": "stdout",
     "output_type": "stream",
     "text": [
      "/Users/abaoxomtieu/Desktop/CODE/Experiment/chatgpt-code-review/New\n",
      "/Users/abaoxomtieu/Desktop/CODE/Experiment/chatgpt-code-review/New\n"
     ]
    }
   ],
   "source": [
    "from utils.helper import get_all_files_in_directory"
   ]
  },
  {
   "cell_type": "code",
   "execution_count": 1,
   "metadata": {},
   "outputs": [
    {
     "name": "stdout",
     "output_type": "stream",
     "text": [
      "folder1\n",
      "    file1.txt\n",
      "    folder2\n",
      "        file2.txt\n",
      "        folder3\n",
      "            file4.txt\n",
      "folder3\n",
      "    file3.txt\n"
     ]
    }
   ],
   "source": [
    "import os\n",
    "\n",
    "def build_tree(paths):\n",
    "    tree = {}\n",
    "    for path in paths:\n",
    "        parts = path.split(os.sep)  # Split the path by the folder separator\n",
    "        node = tree\n",
    "        for part in parts:\n",
    "            node = node.setdefault(part, {})\n",
    "    return tree\n",
    "\n",
    "def print_tree(tree, indent=\"\"):\n",
    "    for key, value in tree.items():\n",
    "        print(indent + key)\n",
    "        if isinstance(value, dict):\n",
    "            print_tree(value, indent + \"    \")\n",
    "\n",
    "# Example usage\n",
    "paths = [\n",
    "    \"folder1/file1.txt\",\n",
    "    \"folder1/folder2/file2.txt\",\n",
    "    \"folder3/file3.txt\",\n",
    "    \"folder1/folder2/folder3/file4.txt\"\n",
    "]\n",
    "\n",
    "# Build and print the folder structure\n",
    "tree = build_tree(paths)\n",
    "print_tree(tree)\n"
   ]
  },
  {
   "cell_type": "code",
   "execution_count": 2,
   "metadata": {},
   "outputs": [
    {
     "name": "stdout",
     "output_type": "stream",
     "text": [
      "a\n"
     ]
    }
   ],
   "source": [
    "a = []\n",
    "if not a:\n",
    "    print(\"a\")"
   ]
  },
  {
   "cell_type": "code",
   "execution_count": 6,
   "metadata": {},
   "outputs": [],
   "source": [
    "import tiktoken\n",
    "encoding = tiktoken.get_encoding(\"o200k_base\")\n"
   ]
  },
  {
   "cell_type": "code",
   "execution_count": 10,
   "metadata": {},
   "outputs": [
    {
     "name": "stdout",
     "output_type": "stream",
     "text": [
      "[6527, 22673, 8052, 8440, 71445, 312, 3390]\n",
      "7\n"
     ]
    }
   ],
   "source": [
    "tokens = encoding.encode(\"alo bạn là ai vậy hả\")\n",
    "print(tokens)\n",
    "token_count = len(tokens)\n",
    "print(token_count)"
   ]
  },
  {
   "cell_type": "code",
   "execution_count": null,
   "metadata": {},
   "outputs": [],
   "source": []
  }
 ],
 "metadata": {
  "kernelspec": {
   "display_name": ".venv",
   "language": "python",
   "name": "python3"
  },
  "language_info": {
   "codemirror_mode": {
    "name": "ipython",
    "version": 3
   },
   "file_extension": ".py",
   "mimetype": "text/x-python",
   "name": "python",
   "nbconvert_exporter": "python",
   "pygments_lexer": "ipython3",
   "version": "3.11.9"
  }
 },
 "nbformat": 4,
 "nbformat_minor": 2
}
